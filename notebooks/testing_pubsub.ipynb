{
 "cells": [
  {
   "cell_type": "code",
   "execution_count": 1,
   "id": "125a27b2",
   "metadata": {},
   "outputs": [
    {
     "name": "stdout",
     "output_type": "stream",
     "text": [
      "projects/erudite-flag-364413/topics/RC.MODEL\n"
     ]
    }
   ],
   "source": [
    "import os\n",
    "import numpy as np\n",
    "import json\n",
    "\n",
    "from google.cloud import pubsub_v1\n",
    "from typing import Optional\n",
    "from google.api_core.exceptions import AlreadyExists\n",
    "\n",
    "\n",
    "\n",
    "os.environ[\"GOOGLE_APPLICATION_CREDENTIALS\"] = \"../../erudite-flag-364413-428e8c5a8dbb.json\"\n",
    "project_id = \"erudite-flag-364413\"\n",
    "topic_id = 'RC.MODEL'\n",
    "\n",
    "publisher = pubsub_v1.PublisherClient()\n",
    "\n",
    "topic_path = publisher.topic_path(project_id, topic_id)\n",
    "\n",
    "try:\n",
    "    topic = publisher.create_topic(name=topic_path)\n",
    "    print(topic.name)\n",
    "except AlreadyExists:\n",
    "    print(topic_path)"
   ]
  },
  {
   "cell_type": "code",
   "execution_count": 13,
   "id": "3cae1def",
   "metadata": {},
   "outputs": [
    {
     "name": "stdout",
     "output_type": "stream",
     "text": [
      "b'{\"a\": {\"rate\": [1.0], \"concentration\": [1.0], \"shape\": [1]}, \"b\": {\"rate\": [1.0], \"concentration\": [1.0], \"shape\": [1]}}'\n"
     ]
    }
   ],
   "source": [
    "data = {\n",
    "    'a': {'rate': list(np.ones(1)), 'concentration': list(np.ones(1)), 'shape': (1,)}, \n",
    "    'b': {'rate': list(np.ones(1)), 'concentration': list(np.ones(1)), 'shape': (1,)} \n",
    "}\n",
    "\n",
    "encode_data = json.dumps(data).encode('utf-8')\n",
    "print(encode_data)\n",
    "\n",
    "for _ in range(2):\n",
    "    future = publisher.publish(topic_path, encode_data)\n",
    "    future.result()"
   ]
  },
  {
   "cell_type": "code",
   "execution_count": 7,
   "id": "d1be900a",
   "metadata": {},
   "outputs": [],
   "source": [
    "def sub(project_id: str, subscription_id: str, timeout: Optional[float] = None) -> None:\n",
    "    \"\"\"Receives messages from a Pub/Sub subscription.\"\"\"\n",
    "    # Initialize a Subscriber client\n",
    "    subscriber_client = pubsub_v1.SubscriberClient()\n",
    "    # Create a fully qualified identifier in the form of\n",
    "    # `projects/{project_id}/subscriptions/{subscription_id}`\n",
    "    subscription_path = subscriber_client.subscription_path(project_id, subscription_id)\n",
    "\n",
    "    try:\n",
    "        subscription = subscriber_client.create_subscription(\n",
    "            request={\"name\": subscription_path, \"topic\": topic_path}\n",
    "        )\n",
    "        print(subscription.name)\n",
    "    except AlreadyExists:\n",
    "        print(subscription_path)\n",
    "\n",
    "    def callback(message: pubsub_v1.subscriber.message.Message) -> None:\n",
    "        print(f\"Received {message}.\")\n",
    "        # Acknowledge the message. Unack'ed messages will be redelivered.\n",
    "        message.ack()\n",
    "        print(f\"Acknowledged {message.message_id}.\")\n",
    "\n",
    "    streaming_pull_future = subscriber_client.subscribe(\n",
    "        subscription_path, callback=callback\n",
    "    )\n",
    "    print(f\"Listening for messages on {subscription_path}..\\n\")\n",
    "\n",
    "    try:\n",
    "        # Calling result() on StreamingPullFuture keeps the main thread from\n",
    "        # exiting while messages get processed in the callbacks.\n",
    "        streaming_pull_future.result(timeout=timeout)\n",
    "    except:  # noqa\n",
    "        streaming_pull_future.cancel()  # Trigger the shutdown.\n",
    "        streaming_pull_future.result()  # Block until the shutdown is complete.\n",
    "\n",
    "    subscriber_client.close()"
   ]
  },
  {
   "cell_type": "code",
   "execution_count": 14,
   "id": "bd10e8e8",
   "metadata": {},
   "outputs": [
    {
     "name": "stdout",
     "output_type": "stream",
     "text": [
      "projects/erudite-flag-364413/subscriptions/RC.MODEL.01\n",
      "Listening for messages on projects/erudite-flag-364413/subscriptions/RC.MODEL.01..\n",
      "\n"
     ]
    }
   ],
   "source": [
    "peer_id = '.01'\n",
    "subscription_id = topic_id + peer_id\n",
    "\n",
    "sub(project_id, subscription_id, 1)"
   ]
  },
  {
   "cell_type": "code",
   "execution_count": 15,
   "id": "94428e3e",
   "metadata": {},
   "outputs": [
    {
     "name": "stdout",
     "output_type": "stream",
     "text": [
      "projects/erudite-flag-364413/subscriptions/RC.MODEL.02\n",
      "Listening for messages on projects/erudite-flag-364413/subscriptions/RC.MODEL.02..\n",
      "\n",
      "Received Message {\n",
      "  data: b'{\"a\": {\"rate\": [1.0], \"concentration\": [1.0], \"sha...'\n",
      "  ordering_key: ''\n",
      "  attributes: {}\n",
      "}.\n",
      "Acknowledged 7631635323652359.\n",
      "Received Message {\n",
      "  data: b'{\"a\": {\"rate\": [1.0], \"concentration\": [1.0], \"sha...'\n",
      "  ordering_key: ''\n",
      "  attributes: {}\n",
      "}.\n",
      "Acknowledged 7631597399121878.\n"
     ]
    }
   ],
   "source": [
    "peer_id = '.02'\n",
    "subscription_id = topic_id + peer_id\n",
    "\n",
    "sub(project_id, subscription_id, 1)"
   ]
  },
  {
   "cell_type": "code",
   "execution_count": null,
   "id": "6b03ab15",
   "metadata": {},
   "outputs": [],
   "source": []
  }
 ],
 "metadata": {
  "kernelspec": {
   "display_name": "fedbmr",
   "language": "python",
   "name": "python3"
  },
  "language_info": {
   "codemirror_mode": {
    "name": "ipython",
    "version": 3
   },
   "file_extension": ".py",
   "mimetype": "text/x-python",
   "name": "python",
   "nbconvert_exporter": "python",
   "pygments_lexer": "ipython3",
   "version": "3.10.11"
  },
  "vscode": {
   "interpreter": {
    "hash": "da5653e2d5f2980af23ef2f9edd5e78a3a23c89f4c948009ac1e73d240e04c57"
   }
  }
 },
 "nbformat": 4,
 "nbformat_minor": 5
}
