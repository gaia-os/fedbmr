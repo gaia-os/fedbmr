{
 "cells": [
  {
   "cell_type": "code",
   "execution_count": 16,
   "id": "125a27b2",
   "metadata": {},
   "outputs": [
    {
     "data": {
      "text/plain": [
       "'7630464457962685'"
      ]
     },
     "execution_count": 16,
     "metadata": {},
     "output_type": "execute_result"
    }
   ],
   "source": [
    "import os\n",
    "from google.cloud import pubsub_v1\n",
    "\n",
    "os.environ[\"GOOGLE_APPLICATION_CREDENTIALS\"] = \"../../erudite-flag-364413-428e8c5a8dbb.json\"\n",
    "os.environ[\"GOOGLE_CLOUD_PROJECT\"] = \"erudite-flag-364413\"\n",
    "\n",
    "publisher = pubsub_v1.PublisherClient()\n",
    "topic_name = 'projects/{project_id}/topics/{topic}'.format(\n",
    "    project_id=os.getenv('GOOGLE_CLOUD_PROJECT'),\n",
    "    topic='RC.MODEL',  # Set this to something appropriate.\n",
    ")\n",
    "\n",
    "publisher.create_topic(name=topic_name)\n",
    "future = publisher.publish(topic_name, b'My first message!', spam='eggs')\n",
    "future.result()"
   ]
  },
  {
   "cell_type": "code",
   "execution_count": null,
   "id": "3cae1def",
   "metadata": {},
   "outputs": [],
   "source": [
    "import jax.numpy as jnp\n",
    "import json\n",
    "\n",
    "data = {\n",
    "    'a': {'rate': , 'concentration': } \n",
    "    'b': {'rate': , 'concentration': } \n",
    "}\n",
    "\n",
    "user_dict = {'name': 'dinesh', 'code': 'dr-01'}\n",
    "user_encode_data = json.dumps(user_dict, indent=2).encode('utf-8')\n",
    "print(user_encode_data)"
   ]
  }
 ],
 "metadata": {
  "kernelspec": {
   "display_name": "fedbmr",
   "language": "python",
   "name": "python3"
  },
  "language_info": {
   "codemirror_mode": {
    "name": "ipython",
    "version": 3
   },
   "file_extension": ".py",
   "mimetype": "text/x-python",
   "name": "python",
   "nbconvert_exporter": "python",
   "pygments_lexer": "ipython3",
   "version": "3.10.11"
  },
  "vscode": {
   "interpreter": {
    "hash": "da5653e2d5f2980af23ef2f9edd5e78a3a23c89f4c948009ac1e73d240e04c57"
   }
  }
 },
 "nbformat": 4,
 "nbformat_minor": 5
}
