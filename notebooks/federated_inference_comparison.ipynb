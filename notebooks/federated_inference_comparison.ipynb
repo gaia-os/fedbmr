{
 "cells": [
  {
   "attachments": {},
   "cell_type": "markdown",
   "metadata": {},
   "source": [
    "Here we will investigate posterior estimates of a hierarchical linear regression model using various federated learning frameworks and comparing the quality of posterior estimates to centralised inference using sampling and stochastic variational inference methods."
   ]
  }
 ],
 "metadata": {
  "kernelspec": {
   "display_name": "Python 3",
   "language": "python",
   "name": "python3"
  },
  "language_info": {
   "name": "python",
   "version": "3.9.9 (main, Jan  4 2022, 12:30:23) \n[GCC 11.1.0]"
  },
  "orig_nbformat": 4,
  "vscode": {
   "interpreter": {
    "hash": "8bc8ba23feba87d034acd864583d6e0ca0ba44a5d9d14a1272c80395b88100fb"
   }
  }
 },
 "nbformat": 4,
 "nbformat_minor": 2
}
