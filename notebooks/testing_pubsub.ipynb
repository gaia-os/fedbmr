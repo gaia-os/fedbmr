{
 "cells": [
  {
   "cell_type": "code",
   "execution_count": 1,
   "id": "125a27b2",
   "metadata": {},
   "outputs": [
    {
     "name": "stdout",
     "output_type": "stream",
     "text": [
      "projects/erudite-flag-364413/topics/RC.MODEL\n"
     ]
    }
   ],
   "source": [
    "import os\n",
    "import numpy as np\n",
    "import json\n",
    "\n",
    "from google.cloud import pubsub_v1\n",
    "from typing import Optional, List\n",
    "from google.api_core.exceptions import AlreadyExists\n",
    "\n",
    "\n",
    "\n",
    "os.environ[\"GOOGLE_APPLICATION_CREDENTIALS\"] = \"../../erudite-flag-364413-428e8c5a8dbb.json\"\n",
    "# os.environ[\"GOOGLE_APPLICATION_CREDENTIALS\"] = \"../credentials/erudite-flag-364413-9dd30db2b4a5.json\"\n",
    "\n",
    "project_id = \"erudite-flag-364413\"\n",
    "topic_id = 'RC.MODEL'\n",
    "\n",
    "publisher_options = pubsub_v1.types.PublisherOptions(enable_message_ordering=True)\n",
    "# Sending messages to the same region ensures they are received in order\n",
    "# even when multiple publishers are used.\n",
    "client_options = {\"api_endpoint\": \"us-east1-pubsub.googleapis.com:443\"}\n",
    "publisher = pubsub_v1.PublisherClient(\n",
    "    publisher_options=publisher_options, client_options=client_options\n",
    ")\n",
    "\n",
    "topic_path = publisher.topic_path(project_id, topic_id)\n",
    "\n",
    "try:\n",
    "    topic = publisher.create_topic(name=topic_path)\n",
    "    print(topic.name)\n",
    "except AlreadyExists:\n",
    "    print(topic_path)"
   ]
  },
  {
   "cell_type": "code",
   "execution_count": 2,
   "id": "3cae1def",
   "metadata": {},
   "outputs": [
    {
     "name": "stdout",
     "output_type": "stream",
     "text": [
      "b'{\"a\": {\"rate\": [1.0], \"concentration\": [1.0], \"shape\": [1]}, \"b\": {\"rate\": [1.0], \"concentration\": [1.0], \"shape\": [1]}}'\n",
      "7718366083140693\n",
      "7718333282190803\n"
     ]
    }
   ],
   "source": [
    "data = {\n",
    "    'a': {'rate': list(np.ones(1)), 'concentration': list(np.ones(1)), 'shape': (1,)}, \n",
    "    'b': {'rate': list(np.ones(1)), 'concentration': list(np.ones(1)), 'shape': (1,)} \n",
    "}\n",
    "\n",
    "encode_data = json.dumps(data).encode('utf-8')\n",
    "print(encode_data)\n",
    "\n",
    "for i in range(2):\n",
    "    data['a']['rate'][0] += i\n",
    "    encode_data = json.dumps(data).encode('utf-8')\n",
    "    future = publisher.publish(topic_path, encode_data, ordering_key='A')\n",
    "    print(future.result())"
   ]
  },
  {
   "cell_type": "code",
   "execution_count": 3,
   "id": "d1be900a",
   "metadata": {},
   "outputs": [],
   "source": [
    "def sub(project_id: str, subscription_id: str, timeout: Optional[float] = None) -> List:\n",
    "    \"\"\"Receives messages from a Pub/Sub subscription.\"\"\"\n",
    "    # Initialize a Subscriber client\n",
    "    subscriber_client = pubsub_v1.SubscriberClient()\n",
    "    # Create a fully qualified identifier in the form of\n",
    "    # `projects/{project_id}/subscriptions/{subscription_id}`\n",
    "    subscription_path = subscriber_client.subscription_path(project_id, subscription_id)\n",
    "\n",
    "    try:\n",
    "        subscription = subscriber_client.create_subscription(\n",
    "            request={\"name\": subscription_path, \"topic\": topic_path}\n",
    "        )\n",
    "        print(subscription.name)\n",
    "    except AlreadyExists:\n",
    "        print(subscription_path)\n",
    "\n",
    "    data = []\n",
    "\n",
    "    def callback(message: pubsub_v1.subscriber.message.Message) -> None:\n",
    "        print(f\"Received {message}.\")\n",
    "        # Acknowledge the message. Unack'ed messages will be redelivered.\n",
    "        message.ack()\n",
    "        data.append(json.loads(message.data.decode()))\n",
    "        print(f\"Acknowledged {message.message_id}.\")\n",
    "\n",
    "    streaming_pull_future = subscriber_client.subscribe(\n",
    "        subscription_path, callback=callback\n",
    "    )\n",
    "    print(f\"Listening for messages on {subscription_path}..\\n\")\n",
    "\n",
    "    try:\n",
    "        # Calling result() on StreamingPullFuture keeps the main thread from\n",
    "        # exiting while messages get processed in the callbacks.\n",
    "        streaming_pull_future.result(timeout=timeout)\n",
    "    except:  # noqa\n",
    "        streaming_pull_future.cancel()  # Trigger the shutdown.\n",
    "        streaming_pull_future.result()  # Block until the shutdown is complete.\n",
    "\n",
    "    subscriber_client.close()\n",
    "\n",
    "    return data"
   ]
  },
  {
   "cell_type": "code",
   "execution_count": 20,
   "id": "bd10e8e8",
   "metadata": {},
   "outputs": [
    {
     "name": "stdout",
     "output_type": "stream",
     "text": [
      "RC.MODEL.01\n",
      "projects/erudite-flag-364413/subscriptions/RC.MODEL.01\n",
      "Listening for messages on projects/erudite-flag-364413/subscriptions/RC.MODEL.01..\n",
      "\n",
      "Received Message {\n",
      "  data: b'{\"u_som\": {\"eta1\": [[-0.4835032820701599], []], \"e...'\n",
      "  ordering_key: 'A'\n",
      "  attributes: {}\n",
      "}.\n",
      "Acknowledged 7718588231186008.\n"
     ]
    },
    {
     "data": {
      "text/plain": [
       "[{'u_som': {'eta1': [[-0.4835032820701599], []],\n",
       "   'eta2': [[-1.0436919927597046], []]},\n",
       "  'u_som_t0': {'eta1': [[1.3746299743652344], []],\n",
       "   'eta2': [[-9.862667083740234], []]},\n",
       "  'u_yield': {'eta1': [[-0.16051578521728516], []],\n",
       "   'eta2': [[-25.524232864379883], []]}}]"
      ]
     },
     "execution_count": 20,
     "metadata": {},
     "output_type": "execute_result"
    }
   ],
   "source": [
    "peer_id = '.01'\n",
    "subscription_id = topic_id + peer_id\n",
    "\n",
    "print(subscription_id)\n",
    "\n",
    "sub(project_id, subscription_id, 10)"
   ]
  },
  {
   "cell_type": "code",
   "execution_count": 21,
   "id": "94428e3e",
   "metadata": {},
   "outputs": [
    {
     "name": "stdout",
     "output_type": "stream",
     "text": [
      "RC.MODEL.02\n",
      "projects/erudite-flag-364413/subscriptions/RC.MODEL.02\n",
      "Listening for messages on projects/erudite-flag-364413/subscriptions/RC.MODEL.02..\n",
      "\n",
      "Received Message {\n",
      "  data: b'{\"u_som\": {\"eta1\": [[-0.49462878704071045], []], \"...'\n",
      "  ordering_key: 'A'\n",
      "  attributes: {}\n",
      "}.\n",
      "Acknowledged 7718587642029581.\n",
      "Received Message {\n",
      "  data: b'{\"u_som\": {\"eta1\": [[-0.4835032820701599], []], \"e...'\n",
      "  ordering_key: 'A'\n",
      "  attributes: {}\n",
      "}.\n",
      "Acknowledged 7718588231186008.\n"
     ]
    },
    {
     "data": {
      "text/plain": [
       "[{'u_som': {'eta1': [[-0.49462878704071045], []],\n",
       "   'eta2': [[-1.0279991626739502], []]},\n",
       "  'u_som_t0': {'eta1': [[0.49980831146240234], []],\n",
       "   'eta2': [[-5.6728081703186035], []]},\n",
       "  'u_yield': {'eta1': [[-0.6400856375694275], []],\n",
       "   'eta2': [[-19.310436248779297], []]}},\n",
       " {'u_som': {'eta1': [[-0.4835032820701599], []],\n",
       "   'eta2': [[-1.0436919927597046], []]},\n",
       "  'u_som_t0': {'eta1': [[1.3746299743652344], []],\n",
       "   'eta2': [[-9.862667083740234], []]},\n",
       "  'u_yield': {'eta1': [[-0.16051578521728516], []],\n",
       "   'eta2': [[-25.524232864379883], []]}}]"
      ]
     },
     "execution_count": 21,
     "metadata": {},
     "output_type": "execute_result"
    }
   ],
   "source": [
    "peer_id = '.02'\n",
    "subscription_id = topic_id + peer_id\n",
    "\n",
    "print(subscription_id)\n",
    "\n",
    "sub(project_id, subscription_id, 10)"
   ]
  },
  {
   "cell_type": "code",
   "execution_count": null,
   "id": "6b03ab15",
   "metadata": {},
   "outputs": [],
   "source": []
  }
 ],
 "metadata": {
  "kernelspec": {
   "display_name": "fedbmr",
   "language": "python",
   "name": "python3"
  },
  "language_info": {
   "codemirror_mode": {
    "name": "ipython",
    "version": 3
   },
   "file_extension": ".py",
   "mimetype": "text/x-python",
   "name": "python",
   "nbconvert_exporter": "python",
   "pygments_lexer": "ipython3",
   "version": "3.10.11"
  },
  "vscode": {
   "interpreter": {
    "hash": "da5653e2d5f2980af23ef2f9edd5e78a3a23c89f4c948009ac1e73d240e04c57"
   }
  }
 },
 "nbformat": 4,
 "nbformat_minor": 5
}
