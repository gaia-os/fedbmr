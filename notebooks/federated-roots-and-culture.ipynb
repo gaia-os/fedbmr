{
 "cells": [
  {
   "attachments": {},
   "cell_type": "markdown",
   "id": "90b84323",
   "metadata": {},
   "source": [
    "# Federated inference and learning for the **Roots & Culture (RC)** model"
   ]
  },
  {
   "attachments": {},
   "cell_type": "markdown",
   "id": "c0adc1da",
   "metadata": {},
   "source": [
    "## 1. Introduction\n",
    "\n",
    "**Federated variational inference and learning** (also known as **collaborative inference and learning**) is a novel probabilistic inference scheme that allows for inverting a hierarchical generative model using multiple decentralized nodes (i.e. edge devices or servers) holding local data samples. This is done without having to pull the local data to a central node or exchanging the data samples between nodes.\n",
    "\n",
    "The central challenge that federated inference and learning tries to solve is to allow multiple actors to build a common, robust generative model without sharing data. This way, various issues related to data control can be addressed, such as data privacy, data security, data access rights, and access to heterogeneous data. Moreover, this approach saves the bandwidth required to collect and store potentially large amounts of data on centralized servers.\n",
    "\n",
    "Here, we showcase a federated variational inference and learning scheme for a generic plant growth model. What makes the federated approach especially appropriate for this is that, besides obvious data privacy and security concerns, we can expect that different users might have access to different data as a source for inferring relevant model parameters. In a generative model, this translates into a user-specific likelihood function. Importantly, for federated learning to make sense, we must assume that besides data likelihoods, the rest of the generative model is shared across users. In other words, users will use the data to perform inference over a shared set of model parameters and latent states describing plant growth and the dynamics of other relevant variables.\n",
    "\n",
    "To further elaborate on how this works, consider a scenario where the federated plant growth model is being used by multiple users. These users will have access to different measurments in different settings. For example, one user's dataset may contain information on the growth of plants in a greenhouse while another user's dataset may describe the growth of plants in an outdoor garden. The federated approach allows these users to contribute their data to a common model without sharing it. This is achieved user specific estimation of model parameters given local data samples. The estimated parameters are then passed between nodes which aggregate them to obtain a shared set of parameters that describe the model. This shared set of parameters is then used by all users to perform inference over the entire dataset. By doing this, the federated approach enables the creation of a more robust model that can capture the heterogeneity of the data, while still preserving the privacy and security of the data samples.\n",
    "\n"
   ]
  },
  {
   "attachments": {},
   "cell_type": "markdown",
   "id": "929ce5cd",
   "metadata": {},
   "source": [
    "## 2. Background information\n",
    "\n",
    "**Roots & Culture (RC)** is an indoor hemp farm in Virginia, USA where high CBD hemp flowers are grown, harvested, then processed into extract which is infused into skincare products. Since 2018, they have been growing indoors because it offers control over all aspects of the environment, ensuring plants experience only the most favourable conditions during development. The result is an extremely clean, high-value extract which is perfect for dermatological applications.\n",
    "\n",
    "The **RC** generative model maps a sequence of actions (interventions, such as, planting, irrigating and harvesting) during a growth season, and a set of model parameters, into a time series of latent states (plant count, plant size, soil organic matter, growth rate, soil water status, and evapotranspiration rate) and observables (e.g. total yield). Therefore, the model represents a simple digital twin of the Roots & Culture indoor hemp farm.\n",
    "\n",
    "***For more info on the RC model please read [RC Model](https://github.com/gaia-os/gaia-hub/blob/main/notebooks/LAB-roots-and-culture.ipynb).***\n",
    "\n",
    "***For an introduction to the base level modeling framework visit [Get Started notebook](https://github.com/gaia-os/gaia-hub/blob/main/notebooks/get_started.ipynb).***"
   ]
  },
  {
   "attachments": {},
   "cell_type": "markdown",
   "id": "e66c46da",
   "metadata": {},
   "source": [
    "## 3. A summary of the process \n",
    "We will start by importing the existing dataset from the **Roots & Culture (RC)** indoor hemp farm. This dataset we will use to invert the model and constrain the range of viable model parameters in the form of posterior estimate.\n",
    "\n",
    "Using the posterior distribution we will simulate a novel set of $N=50$ farms, each which a unique set of parameters and measurments sampled from the generative model. \n",
    "\n",
    "Finally, we will define a hirerarchical generative model and a corresponding approximate posterior which we will use in a federated setting for estimation of the posterior over global model parameters, that is, hyper-parameters. The knowledge about the global posterior is shared between clients and over time improved sufficiently so that each client improves their local estimates of the model parameter.\n",
    "\n",
    "We will start by defining the programming environment and introducing basic components required for model inversion."
   ]
  },
  {
   "attachments": {},
   "cell_type": "markdown",
   "id": "027c7646",
   "metadata": {},
   "source": [
    "**Set up the environment**"
   ]
  },
  {
   "cell_type": "code",
   "execution_count": 1,
   "id": "c5071416",
   "metadata": {},
   "outputs": [],
   "source": [
    "import os\n",
    "# Set cuda device to use\n",
    "os.environ[\"CUDA_DEVICE_ORDER\"] = \"PCI_BUS_ID\"\n",
    "os.environ[\"CUDA_VISIBLE_DEVICES\"] = \"0\"\n",
    "\n",
    "# do not prealocate memory\n",
    "os.environ[\"XLA_PYTHON_CLIENT_PREALLOCATE\"] = \"false\"\n",
    "os.environ[\"XLA_PYTHON_CLIENT_ALLOCATOR\"] = \"platform\"\n",
    "\n",
    "# set credentials location for google pubsub\n",
    "os.environ[\"GOOGLE_APPLICATION_CREDENTIALS\"] = \"../../erudite-flag-364413-428e8c5a8dbb.json\"\n",
    "\n",
    "#TODO: make this work with service account credentials\n",
    "# os.environ[\"GOOGLE_APPLICATION_CREDENTIALS\"] = \"../credentials/erudite-flag-364413-9dd30db2b4a5.json\""
   ]
  },
  {
   "cell_type": "code",
   "execution_count": 2,
   "id": "c3c85990",
   "metadata": {},
   "outputs": [],
   "source": [
    "# Import required packages\n",
    "import matplotlib.pyplot as plt\n",
    "import jax.numpy as jnp\n",
    "import jax.tree_util as jtu\n",
    "import optax\n",
    "\n",
    "from jax import random as jr\n",
    "from jax import nn\n",
    "from numpyro import set_platform, handlers\n",
    "from numpyro.optim import optax_to_numpyro\n",
    "from numpyro.infer import TraceGraph_ELBO, Predictive\n",
    "from numpyro.infer.autoguide import AutoNormal\n",
    "\n",
    "\n",
    "# # Retrieve the fangorn directory (option 2)\n",
    "# import digital_gaia.fangorn as fangorn\n",
    "# fangorn_dir = dirname(dirname(dirname(abspath(fangorn.__file__))))\n",
    "\n",
    "# Tell numpyro whether to use cpu or gpu\n",
    "use_gpu = False\n",
    "if use_gpu is True:\n",
    "    set_platform('gpu')\n",
    "else:\n",
    "    set_platform('cpu')\n",
    "    \n",
    "# Import required classes from the fangorn module\n",
    "from digital_gaia.fangorn.agents.agent_factory import AgentFactory\n",
    "from digital_gaia.fangorn.assessment.data_loader import DataLoader\n",
    "from digital_gaia.fangorn.kernels.impl.svi_kernel import SVIKernel\n",
    "\n",
    "# Import required classes from fedbmr package \n",
    "from fedbmr.feds import InfFed"
   ]
  },
  {
   "attachments": {},
   "cell_type": "markdown",
   "id": "7bc40f5d",
   "metadata": {},
   "source": [
    "**Load the configuration file and agent(s)**"
   ]
  },
  {
   "cell_type": "code",
   "execution_count": 3,
   "id": "5ae8f7d3",
   "metadata": {},
   "outputs": [
    {
     "name": "stdout",
     "output_type": "stream",
     "text": [
      "[INFO] Reports' columns: report_id, datetime, location, reporter, t, lot, v1.measurement.base.agriculture.SoilOrganicMatter.SoilOrganicMatter.Continuous, v1.measurement.base.agriculture.Yield.HempYield.Continuous\n",
      "[INFO] Reports' rows:\n",
      "[INFO] \n",
      "[INFO]  index :  0\n",
      "[INFO]  report_id :  3496cd6c-ab30-44af-ac80-de336152526a\n",
      "[INFO]  datetime :  2019-06-24\n",
      "[INFO]  location :  POINT (37.70861368902369 -78.78433457406848)\n",
      "[INFO]  reporter :  rob@element.6.com\n",
      "[INFO]  t :  25\n",
      "[INFO]  lot :  0\n",
      "[INFO]  v1.measurement.base.agriculture.SoilOrganicMatter.SoilOrganicMatter.Continuous :  7.1\n",
      "[INFO]  v1.measurement.base.agriculture.Yield.HempYield.Continuous :  nan\n",
      "[INFO] \n",
      "[INFO]  index :  1\n",
      "[INFO]  report_id :  2696cd6c-ab30-44af-ac80-de336152526a\n",
      "[INFO]  datetime :  2019-10-14\n",
      "[INFO]  location :  POINT (37.708608823855855 -78.78436236226771)\n",
      "[INFO]  reporter :  rob@element.6.com\n",
      "[INFO]  t :  41\n",
      "[INFO]  lot :  0\n",
      "[INFO]  v1.measurement.base.agriculture.SoilOrganicMatter.SoilOrganicMatter.Continuous :  7.4\n",
      "[INFO]  v1.measurement.base.agriculture.Yield.HempYield.Continuous :  323.92\n",
      "[INFO] \n"
     ]
    }
   ],
   "source": [
    "# Load the configuration file corresponding to the Roots & Culture model\n",
    "project_file = '../data/projects/Roots-and-Culture/roots-indoor1.json' \n",
    "reports_dir = '../data/reports/Roots-and-Culture/'\n",
    "verbose = True\n",
    "data_loader = DataLoader(project_file, reports_dir=reports_dir, verbose=verbose)"
   ]
  },
  {
   "cell_type": "code",
   "execution_count": 4,
   "id": "8cb98c71",
   "metadata": {},
   "outputs": [
    {
     "name": "stdout",
     "output_type": "stream",
     "text": [
      "[INFO] Agents found:\n",
      "[INFO] \t- <class 'digital_gaia.fangorn.agents.impl.roots_agent.RootsAndCultureAgent'>\n",
      "[INFO] \t- <class 'digital_gaia.fangorn.agents.impl.get_started_agent.GetStartedAgent'>\n",
      "[INFO] \n",
      "[INFO] Project interventions:\n",
      "[INFO] \t- v1.management.base.agriculture.Irrigation.IrrigateCrops.Yes\n",
      "[INFO] \t- v1.management.base.agriculture.Planting.PlantingSeeds.HempSeeds\n",
      "[INFO] \t- v1.management.base.agriculture.Pruning.PruneCrops.Yes\n",
      "[INFO] \t- v1.management.base.agriculture.Harvest.HarvestCrops.Hemp\n",
      "[INFO] \t- v1.management.base.agriculture.Fertilizer.FertilizeSoil.Yes\n",
      "[INFO] \n",
      "[INFO] Agents satisfying interventions:\n",
      "[INFO] \t- <class 'digital_gaia.fangorn.agents.impl.roots_agent.RootsAndCultureAgent'>\n",
      "[INFO] \n",
      "[INFO] Project species:\n",
      "[INFO] \t- v1.genetics.base.plant.Plant.PlantSpecies.Hemp\n",
      "[INFO] \n",
      "[INFO] Agents satisfying interventions and species:\n",
      "[INFO] \t- <class 'digital_gaia.fangorn.agents.impl.roots_agent.RootsAndCultureAgent'>\n",
      "[INFO] \n"
     ]
    }
   ],
   "source": [
    "# Load the agents agent(s) compatible with the loaded data\n",
    "agents = AgentFactory.create(data_loader, verbose=True)\n",
    "\n",
    "# Get ordinary differential equations (ODE) and stochastic differential equations (SDE) agents\n",
    "ode_agent = next(filter(lambda a: a.name == \"Roots-and-Culture.roots-indoor1.Deterministic\", agents))"
   ]
  },
  {
   "cell_type": "code",
   "execution_count": 5,
   "id": "00fc7195",
   "metadata": {},
   "outputs": [
    {
     "data": {
      "text/plain": [
       "{'v1.measurement.base.agriculture.Yield.HempYield.Continuous': 'obs_yield',\n",
       " 'v1.measurement.base.agriculture.SoilOrganicMatter.SoilOrganicMatter.Continuous': 'obs_soil_organic_matter'}"
      ]
     },
     "execution_count": 5,
     "metadata": {},
     "output_type": "execute_result"
    }
   ],
   "source": [
    "ode_agent.obs_to_site"
   ]
  },
  {
   "cell_type": "code",
   "execution_count": 6,
   "id": "dac2e867",
   "metadata": {},
   "outputs": [
    {
     "data": {
      "text/plain": [
       "{'growth_function_mean': Array(34.5, dtype=float32),\n",
       " 'growth_function_std': Array(2.1666667, dtype=float32),\n",
       " 'max_growth_rate': 0.5,\n",
       " 'evaporation_rate': 0.05,\n",
       " 'soil_type': <SoilType.SiltLoams: 8>,\n",
       " 'lot_area': Array([104], dtype=int32),\n",
       " 'max_root_depth': 0.5,\n",
       " 'max_evapotranspiration_rate': 1,\n",
       " 'yield_potential': 0.578,\n",
       " 'n_seeds': 84,\n",
       " 'time_delta': 1,\n",
       " 'weekly_irrigation': 1500,\n",
       " 'obs_soil_organic_matter_var.a': 0.5,\n",
       " 'obs_soil_organic_matter_var.b': 1.0,\n",
       " 'obs_yield_var.a': 0.5,\n",
       " 'obs_yield_var.b': 1.0,\n",
       " 'soil_organic_matter.mu': 0.055,\n",
       " 'soil_organic_matter.scale': 100.0,\n",
       " 'saturation_point': Array([9966.32], dtype=float32, weak_type=True),\n",
       " 'wilting_point': Array([6500.], dtype=float32, weak_type=True)}"
      ]
     },
     "execution_count": 6,
     "metadata": {},
     "output_type": "execute_result"
    }
   ],
   "source": [
    "ode_agent.hyperparameters"
   ]
  },
  {
   "cell_type": "code",
   "execution_count": 7,
   "id": "8b4757b2",
   "metadata": {},
   "outputs": [
    {
     "data": {
      "text/html": [
       "<div>\n",
       "<style scoped>\n",
       "    .dataframe tbody tr th:only-of-type {\n",
       "        vertical-align: middle;\n",
       "    }\n",
       "\n",
       "    .dataframe tbody tr th {\n",
       "        vertical-align: top;\n",
       "    }\n",
       "\n",
       "    .dataframe thead th {\n",
       "        text-align: right;\n",
       "    }\n",
       "</style>\n",
       "<table border=\"1\" class=\"dataframe\">\n",
       "  <thead>\n",
       "    <tr style=\"text-align: right;\">\n",
       "      <th></th>\n",
       "      <th>report_id</th>\n",
       "      <th>datetime</th>\n",
       "      <th>location</th>\n",
       "      <th>reporter</th>\n",
       "      <th>t</th>\n",
       "      <th>lot</th>\n",
       "      <th>v1.measurement.base.agriculture.SoilOrganicMatter.SoilOrganicMatter.Continuous</th>\n",
       "      <th>v1.measurement.base.agriculture.Yield.HempYield.Continuous</th>\n",
       "    </tr>\n",
       "  </thead>\n",
       "  <tbody>\n",
       "    <tr>\n",
       "      <th>0</th>\n",
       "      <td>3496cd6c-ab30-44af-ac80-de336152526a</td>\n",
       "      <td>2019-06-24</td>\n",
       "      <td>POINT (37.70861 -78.78433)</td>\n",
       "      <td>rob@element.6.com</td>\n",
       "      <td>25</td>\n",
       "      <td>0</td>\n",
       "      <td>7.1</td>\n",
       "      <td>NaN</td>\n",
       "    </tr>\n",
       "    <tr>\n",
       "      <th>1</th>\n",
       "      <td>2696cd6c-ab30-44af-ac80-de336152526a</td>\n",
       "      <td>2019-10-14</td>\n",
       "      <td>POINT (37.70861 -78.78436)</td>\n",
       "      <td>rob@element.6.com</td>\n",
       "      <td>41</td>\n",
       "      <td>0</td>\n",
       "      <td>7.4</td>\n",
       "      <td>323.92</td>\n",
       "    </tr>\n",
       "  </tbody>\n",
       "</table>\n",
       "</div>"
      ],
      "text/plain": [
       "                              report_id    datetime   \n",
       "0  3496cd6c-ab30-44af-ac80-de336152526a  2019-06-24  \\\n",
       "1  2696cd6c-ab30-44af-ac80-de336152526a  2019-10-14   \n",
       "\n",
       "                     location           reporter   t  lot   \n",
       "0  POINT (37.70861 -78.78433)  rob@element.6.com  25    0  \\\n",
       "1  POINT (37.70861 -78.78436)  rob@element.6.com  41    0   \n",
       "\n",
       "   v1.measurement.base.agriculture.SoilOrganicMatter.SoilOrganicMatter.Continuous   \n",
       "0                                                7.1                               \\\n",
       "1                                                7.4                                \n",
       "\n",
       "   v1.measurement.base.agriculture.Yield.HempYield.Continuous  \n",
       "0                                                NaN           \n",
       "1                                             323.92           "
      ]
     },
     "execution_count": 7,
     "metadata": {},
     "output_type": "execute_result"
    }
   ],
   "source": [
    "data_loader.reports"
   ]
  },
  {
   "cell_type": "code",
   "execution_count": 8,
   "id": "e8034057",
   "metadata": {},
   "outputs": [
    {
     "name": "stdout",
     "output_type": "stream",
     "text": [
      "dict_keys(['obs_soil_organic_matter', 'obs_yield']) (52, 1)\n",
      "dict_keys(['obs_soil_organic_matter', 'obs_yield']) (52, 1)\n"
     ]
    }
   ],
   "source": [
    "# Format data\n",
    "project_mask = []\n",
    "project_data = []\n",
    "for lot in data_loader.reports.lot.unique():\n",
    "    df = data_loader.reports.loc[data_loader.reports.lot == lot, ['t', ] + data_loader.obs_names]\n",
    "    df.set_index('t', inplace=True)\n",
    "    df = df.reindex(range(52))\n",
    "    project_mask.append({ode_agent.obs_to_site[key]: ~df[key].isna().values for key in data_loader.obs_names})\n",
    "    project_data.append({ode_agent.obs_to_site[key]: df[key].fillna(0.).values for key in data_loader.obs_names})\n",
    "\n",
    "project_mask = jtu.tree_map( lambda *args: jnp.stack(list(args), axis=-1), project_mask)[0]\n",
    "project_data = jtu.tree_map( lambda *args: jnp.stack(list(args), axis=-1), project_data)[0]\n",
    "\n",
    "print(project_mask.keys(), project_mask['obs_yield'].shape)\n",
    "print(project_data.keys(), project_data['obs_yield'].shape)"
   ]
  },
  {
   "cell_type": "code",
   "execution_count": 9,
   "id": "f8996015",
   "metadata": {},
   "outputs": [
    {
     "name": "stdout",
     "output_type": "stream",
     "text": [
      "<numpyro.handlers.condition object at 0x7f615c76b1c0>\n",
      "<numpyro.infer.autoguide.AutoMultivariateNormal object at 0x7f616086f760>\n"
     ]
    }
   ],
   "source": [
    "# Provide the data to the agent\n",
    "cond_model, guide = ode_agent.condition_all(data=project_data)\n",
    "print(cond_model)\n",
    "print(guide)\n",
    "\n",
    "# test model and guide\n",
    "with handlers.seed(rng_seed=0):\n",
    "    cond_model(mask=project_mask)\n",
    "    guide(mask=project_mask)"
   ]
  },
  {
   "cell_type": "code",
   "execution_count": 10,
   "id": "d58707f1",
   "metadata": {},
   "outputs": [
    {
     "name": "stderr",
     "output_type": "stream",
     "text": [
      "  0%|          | 0/10000 [00:00<?, ?it/s]/home/dima/.conda/envs/fedbmr/lib/python3.10/site-packages/jax/_src/linear_util.py:188: UserWarning: Missing a plate statement for batch dimension -2 at site 'obs_yield'. You can use `numpyro.util.format_shapes` utility to check shapes at all sites of your model.\n",
      "  ans = self.f(*args, **dict(self.params, **kwargs))\n",
      "100%|██████████| 10000/10000 [00:03<00:00, 3172.79it/s, init loss: 1863922.5000, avg. loss [9501-10000]: 819.9214] \n"
     ]
    }
   ],
   "source": [
    "# Create the SVI algorithm\n",
    "svi_args = {\n",
    "    \"optimiser\": optax_to_numpyro(optax.adabelief(1e-3)),\n",
    "    \"loss\": TraceGraph_ELBO(num_particles=16),\n",
    "    \"num_steps\": 10_000\n",
    "}\n",
    "svi_algorithm = ode_agent.inference_algorithm(SVIKernel, kernel_args=svi_args)\n",
    "\n",
    "# Perform inference using SVI\n",
    "inference_kwargs = {\n",
    "    \"stable_update\": True, \n",
    "    \"mask\": project_mask\n",
    "}\n",
    "svi_samples = svi_algorithm.run_inference(inference_kwargs=inference_kwargs)\n",
    "svi_samples.pop('obs_yield');"
   ]
  },
  {
   "cell_type": "code",
   "execution_count": 11,
   "id": "df0b4509",
   "metadata": {},
   "outputs": [
    {
     "data": {
      "text/plain": [
       "dict_keys(['evapotranspiration_rate', 'growth_rate', 'obs_soil_organic_matter', 'obs_som_scale', 'obs_yield_std', 'plant_count', 'plant_size', 'soil_organic_matter', 'soil_water_status', 'wilting', '_auto_latent', '_obs_som_var', '_obs_yield_var', 'soil_organic_matter.t0'])"
      ]
     },
     "execution_count": 11,
     "metadata": {},
     "output_type": "execute_result"
    }
   ],
   "source": [
    "svi_samples.keys()"
   ]
  },
  {
   "cell_type": "code",
   "execution_count": 12,
   "id": "56921d4e",
   "metadata": {},
   "outputs": [
    {
     "data": {
      "image/png": "[encoded data removed]",
      "text/plain": [
       "<Figure size 1600x500 with 3 Axes>"
      ]
     },
     "metadata": {},
     "output_type": "display_data"
    }
   ],
   "source": [
    "# Plot posterior estimate over model parameters\n",
    "fig, axes = plt.subplots(1, 3, figsize=(16, 5))\n",
    "axes[0].hist(svi_samples['obs_yield_std'], bins=100);\n",
    "axes[0].set_title(r'Yield$_{\\sigma}$');\n",
    "axes[1].hist(svi_samples['soil_organic_matter.t0'].squeeze() * 100, bins=100);\n",
    "axes[1].set_title(r'SOM$_{t=0}$');\n",
    "axes[2].hist(svi_samples['obs_som_scale'], bins=100);\n",
    "axes[2].set_title(r'SOM$_{\\sigma}$');"
   ]
  },
  {
   "cell_type": "code",
   "execution_count": 13,
   "id": "20ab8261",
   "metadata": {},
   "outputs": [
    {
     "data": {
      "image/png": "[encoded data removed]",
      "text/plain": [
       "<Figure size 1600x800 with 4 Axes>"
      ]
     },
     "metadata": {},
     "output_type": "display_data"
    }
   ],
   "source": [
    "# Visualize posterior beliefs over latent states\n",
    "\n",
    "fig, axes = plt.subplots(4, 1, figsize=(16, 8), sharex=True)\n",
    "\n",
    "for ax, name, label in zip(axes, [\"soil_organic_matter\", \"soil_water_status\", \"plant_count\", \"plant_size\"], ['SOM', 'SWS', \"Plant count\", \"Plant size\"]):\n",
    "    mu = svi_samples[name].mean(0).squeeze()\n",
    "    std = svi_samples[name].std(0).squeeze()\n",
    "    x = jnp.arange(len(mu))\n",
    "    ax.plot(x, svi_samples[name].mean(0).squeeze())\n",
    "    ax.fill_between(x, mu - 2 * std, y2=mu + 2 * std, alpha=0.2)\n",
    "    ax.set_ylabel(label)"
   ]
  },
  {
   "attachments": {},
   "cell_type": "markdown",
   "id": "9b7608e3",
   "metadata": {},
   "source": [
    "# Federated inference of model parameters\n",
    "\n"
   ]
  },
  {
   "attachments": {},
   "cell_type": "markdown",
   "id": "098f14fe",
   "metadata": {},
   "source": [
    "Here we will use a federated inference setup for inference and learning of global posterior over hyper-parameters. We will start by defining a hierarchical generative model for the Roots-and-Culture model in the following form \n",
    "```python\n",
    "def hierarchical_model(data):\n",
    "    hyperparams = sample('hyperparams', ...)\n",
    "    local_cond_model = ode_agent.condition_model(data=data)\n",
    "    with plate('num_clients', nc):\n",
    "        local_cond_model(hyperparams)\n",
    "```"
   ]
  },
  {
   "cell_type": "code",
   "execution_count": 14,
   "id": "9fb46b7f",
   "metadata": {},
   "outputs": [],
   "source": [
    "from fedbmr.feds import GenerativeModel, GlobalPrior\n",
    "\n",
    "from numpyro import sample, deterministic, handlers\n",
    "import numpyro.distributions as dist\n",
    "\n",
    "# specify properties of the global prior (hyper-prior)\n",
    "prior_specs = {\n",
    "    \"u_yield\":  dist.Gamma,\n",
    "    \"u_som\":  dist.Gamma,\n",
    "    \"u_som_t0\":  dist.Gamma\n",
    "}\n",
    "\n",
    "default_param_vals = {\n",
    "    \"u_yield\":  dict(concentration=.5, rate=1.),\n",
    "    \"u_som\": dict(concentration=.5, rate=1.),\n",
    "    \"u_som_t0\": dict(concentration=.5, rate=1.) \n",
    "}\n",
    "\n",
    "global_prior = GlobalPrior(prior_specs, default_param_vals)\n",
    "global_prior();"
   ]
  },
  {
   "cell_type": "code",
   "execution_count": 15,
   "id": "8f0f69b8",
   "metadata": {},
   "outputs": [
    {
     "name": "stdout",
     "output_type": "stream",
     "text": [
      "{'u_som': Array(0.5482233, dtype=float32), 'u_som_t0': Array(0.12155401, dtype=float32), 'u_yield': Array(0.00785721, dtype=float32), 'obs_yield_var.b': Array(127.27159, dtype=float32), 'obs_soil_organic_matter_var.b': Array(1.8240741, dtype=float32), 'soil_organic_matter.scale': Array(8.226795, dtype=float32)}\n"
     ]
    }
   ],
   "source": [
    "# define hyper prior distribution\n",
    "def hyperprior(prior, **kwargs):\n",
    "    output_dict = {}\n",
    "    for name, p in prior.items():\n",
    "        output_dict[name] = sample(\"global.\" + name, p.dist)\n",
    "\n",
    "    output_dict[\"obs_yield_var.b\"] = deterministic(\"obs_yield_var.b\", 1 / output_dict[\"u_yield\"])\n",
    "    output_dict[\"obs_soil_organic_matter_var.b\"] = deterministic(\"obs_soil_organic_matter_var.b\", 1 / output_dict[\"u_som\"])\n",
    "    output_dict[\"soil_organic_matter.scale\"] = deterministic(\"soil_organic_matter.scale\", 1 / output_dict[\"u_som_t0\"])\n",
    "\n",
    "    return output_dict | kwargs\n",
    "\n",
    "with handlers.seed(rng_seed=0):\n",
    "    print(hyperprior(global_prior()))"
   ]
  },
  {
   "cell_type": "code",
   "execution_count": 16,
   "id": "2129970c",
   "metadata": {},
   "outputs": [],
   "source": [
    "# link RC model with the hyper-prior and form hierarchical generative model\n",
    "def local_model(input_dict):\n",
    "    # Load the agents agent(s) compatible with the loaded data\n",
    "    data_loader = input_dict.pop('data_loader')\n",
    "    agents = AgentFactory.create(data_loader, verbose=False)\n",
    "\n",
    "    # Get ordinary differential equations (ODE) and stochastic differential equations (SDE) agents\n",
    "    name = input_dict.pop('agent_name')\n",
    "    ode_agent = next(filter(lambda a: a.name == name, agents))\n",
    "\n",
    "    data = input_dict.pop('data', None)\n",
    "    ode_agent.hyperparameters = ode_agent.hyperparameters | input_dict\n",
    "\n",
    "    if data is not None:\n",
    "        model = ode_agent.condition_model(data=data)\n",
    "    else:\n",
    "        model = ode_agent.model\n",
    "    \n",
    "    model()\n",
    "\n",
    "hierarchical_model = GenerativeModel(global_prior(), hyperprior, local_model)"
   ]
  },
  {
   "cell_type": "code",
   "execution_count": 17,
   "id": "40077d6e",
   "metadata": {},
   "outputs": [
    {
     "name": "stdout",
     "output_type": "stream",
     "text": [
      "u_yield: 0.007857212796807289; scale: 29.551206588745117\n",
      "u_som: 0.5482233166694641; scale: 13.235007286071777\n",
      "u_som_t0: 0.12155400961637497; som_t0: [0.05742554]\n"
     ]
    }
   ],
   "source": [
    "model_kwargs = {\n",
    "    'data_loader': data_loader,\n",
    "    'agent_name': \"Roots-and-Culture.roots-indoor1.Deterministic\"\n",
    "}\n",
    "\n",
    "smpl = Predictive(hierarchical_model, num_samples=1)(jr.PRNGKey(0), **model_kwargs)\n",
    "print('u_yield: {};'.format(smpl['global.u_yield'][0]), 'scale: {}'.format(smpl['obs_yield_std'][0]))\n",
    "print('u_som: {};'.format(smpl['global.u_som'][0]), 'scale: {}'.format(smpl[\"obs_som_scale\"][0]))\n",
    "print('u_som_t0: {};'.format(smpl['global.u_som_t0'][0]), 'som_t0: {}'.format(smpl['soil_organic_matter.t0'][0]))"
   ]
  },
  {
   "attachments": {},
   "cell_type": "markdown",
   "id": "6f6c855b",
   "metadata": {},
   "source": [
    "## Define a hierarchical posterior"
   ]
  },
  {
   "attachments": {},
   "cell_type": "markdown",
   "id": "bdd3c735",
   "metadata": {},
   "source": [
    "For the inference scheme to work under federated inference we need to assume the same functional form of the posterior as for the prior. Furthermore, the approximate posterior will follow the same structure as the hierarchical generative model\n",
    "\n",
    "```python\n",
    "def hierarchical_posterior(*args, **kwargs):\n",
    "    hyperparams = GlobalPosterior()\n",
    "    LocalPosterior(hyperparams)\n",
    "```"
   ]
  },
  {
   "cell_type": "code",
   "execution_count": 18,
   "id": "f5401cc8",
   "metadata": {},
   "outputs": [],
   "source": [
    "from fedbmr.feds import Posterior\n",
    "from numpyro import param, prng_key\n",
    "\n",
    "def _gamma(name, shape=()):\n",
    "\n",
    "    a = param(\n",
    "        name + '.concentration', \n",
    "        lambda rng_key: dist.Uniform(.5, 10)(rng_key=rng_key, sample_shape=shape),\n",
    "        constraint=dist.constraints.positive\n",
    "    )\n",
    "    \n",
    "    b = param(name + '.rate', jnp.ones(shape), constraint=dist.constraints.positive)\n",
    "\n",
    "    return dist.Gamma(a, b)\n",
    "\n",
    "def global_posterior(*args, **kwargs):\n",
    "\n",
    "    u_yield = sample('global.u_yield', _gamma('global.u_yield'))\n",
    "    u_som = sample('global.u_som', _gamma('global.u_som'))\n",
    "    u_som_t0 = sample('global.u_som_t0', _gamma('global.u_som_t0'))\n",
    "\n",
    "\n",
    "    output_dict = {}\n",
    "\n",
    "    output_dict[\"obs_yield_var.b\"] = 1 / u_yield\n",
    "    output_dict[\"obs_soil_organic_matter_var.b\"] = 1 / u_som\n",
    "    output_dict[\"soil_organic_matter.scale\"] = 1 / u_som_t0\n",
    "\n",
    "    return output_dict | kwargs\n",
    "\n",
    "def local_posterior(input_dict):\n",
    "\n",
    "    # Load the agents agent(s) compatible with the loaded data\n",
    "    data_loader = input_dict.pop('data_loader')\n",
    "    key = prng_key()\n",
    "    agents = AgentFactory.create(data_loader, rng_key=key, verbose=False)\n",
    "\n",
    "    # Get ordinary differential equations (ODE) and stochastic differential equations (SDE) agents\n",
    "    name = input_dict.pop('agent_name')\n",
    "    ode_agent = next(filter(lambda a: a.name == name, agents))\n",
    "\n",
    "    data = input_dict.pop('data', None)\n",
    "    ode_agent.hyperparameters = ode_agent.hyperparameters | input_dict\n",
    "\n",
    "    _, guide = ode_agent.condition_all(data)\n",
    "    guide()\n",
    "\n",
    "posterior = Posterior(global_posterior, local_posterior)\n",
    "model_kwargs['data'] = project_data\n",
    "\n",
    "with handlers.seed(rng_seed=0):\n",
    "    posterior(**model_kwargs)"
   ]
  },
  {
   "attachments": {},
   "cell_type": "markdown",
   "id": "e701272e",
   "metadata": {},
   "source": [
    "## Generate samples for Federated inference example"
   ]
  },
  {
   "cell_type": "code",
   "execution_count": 19,
   "id": "f6b34c56",
   "metadata": {},
   "outputs": [],
   "source": [
    "rng_key = jr.PRNGKey(777)\n",
    "\n",
    "# sample data\n",
    "num_clients = 20\n",
    "pred = Predictive(ode_agent.model, posterior_samples=svi_samples, return_sites=['obs_yield'])\n",
    "sample_data = pred(rng_key)\n",
    "project_id = \"erudite-flag-364413\"\n",
    "topic_id = 'RC.MODEL'\n",
    "\n",
    "# create clients and pass local data\n",
    "federation = {}\n",
    "for i in range(num_clients):\n",
    "    local_data = {'obs_yield': sample_data['obs_yield'][i]}\n",
    "\n",
    "    n_measurements = len(local_data['obs_yield'])\n",
    "    arg_max = jnp.argmax(local_data['obs_yield'])\n",
    "    local_mask = {\n",
    "        'obs_yield': jnp.expand_dims(nn.one_hot(arg_max, n_measurements, dtype=bool), -1)\n",
    "    }\n",
    "\n",
    "    global_prior = GlobalPrior(prior_specs, default_param_vals)\n",
    "    gm = GenerativeModel(global_prior(), hyperprior, local_model)\n",
    "    post = Posterior(global_posterior, local_posterior)\n",
    "    inf_fed = InfFed(global_prior, gm, post, project_id=project_id, topic_id=topic_id, client_id='{:02d}'.format(i + 1))\n",
    "\n",
    "    # flush existing messages from pubsub\n",
    "    inf_fed.get_prior(flush=True)\n",
    "\n",
    "    federation[i] = {\n",
    "        'model_kwargs': {\n",
    "            'data_loader': data_loader,\n",
    "            'agent_name': \"Roots-and-Culture.roots-indoor1.Deterministic\",\n",
    "            'data': local_data, \n",
    "            'mask': local_mask\n",
    "        }, \n",
    "        'client': inf_fed\n",
    "    }"
   ]
  },
  {
   "cell_type": "code",
   "execution_count": 20,
   "id": "62a78e49",
   "metadata": {},
   "outputs": [
    {
     "name": "stderr",
     "output_type": "stream",
     "text": [
      "/home/dima/.conda/envs/fedbmr/lib/python3.10/site-packages/jax/_src/linear_util.py:188: UserWarning: Missing a plate statement for batch dimension -2 at site 'obs_yield'. You can use `numpyro.util.format_shapes` utility to check shapes at all sites of your model.\n",
      "  ans = self.f(*args, **dict(self.params, **kwargs))\n"
     ]
    }
   ],
   "source": [
    "#TODO: fix this warning\n",
    "federation[1]['client'].inference(\n",
    "    rng_key, \n",
    "    model_kwargs, \n",
    "    num_steps=10_000,\n",
    "    opt_kwargs={'learning_rate': 1e-3}\n",
    ")\n",
    "            "
   ]
  },
  {
   "cell_type": "code",
   "execution_count": 21,
   "id": "60723ce4",
   "metadata": {},
   "outputs": [
    {
     "data": {
      "application/vnd.jupyter.widget-view+json": {
       "model_id": "7d3519d4d97742019be3ec49ae4e92e3",
       "version_major": 2,
       "version_minor": 0
      },
      "text/plain": [
       "  0%|          | 0/20 [00:00<?, ?it/s]"
      ]
     },
     "metadata": {},
     "output_type": "display_data"
    },
    {
     "name": "stderr",
     "output_type": "stream",
     "text": [
      "2023-05-15 18:47:26.220207: E external/xla/xla/service/slow_operation_alarm.cc:65] Constant folding an instruction is taking > 1s:\n",
      "\n",
      "  convert.12 (displaying the full instruction incurs a runtime overhead. Raise your logging level to 4 or above).\n",
      "\n",
      "This isn't necessarily a bug; constant-folding is inherently a trade-off between compilation time and speed at runtime. XLA has some guards that attempt to keep constant folding from taking too long, but fundamentally you'll always be able to come up with an input program that takes a long time.\n",
      "\n",
      "If you'd like to file a bug, run with envvar XLA_FLAGS=--xla_dump_to=/tmp/foo and attach the results.\n"
     ]
    },
    {
     "data": {
      "image/png": "[encoded data removed]",
      "text/plain": [
       "<Figure size 1600x800 with 7 Axes>"
      ]
     },
     "metadata": {},
     "output_type": "display_data"
    }
   ],
   "source": [
    "# sequential algorithm\n",
    "from tqdm.auto import tqdm\n",
    "\n",
    "\n",
    "fig, axes = plt.subplots(2, 3, figsize=(16, 8), sharex='col')\n",
    "\n",
    "num_epochs = 1\n",
    "gp = federation[0]['client'].global_prior()\n",
    "for e in range(num_epochs):\n",
    "    posteriors = []\n",
    "    rng_key, key = jr.split(rng_key)\n",
    "    # random ordering of clients\n",
    "    order = [x.item() for x in jr.choice(key, num_clients, shape=(num_clients,), replace=False)]\n",
    "    for n in tqdm(order):\n",
    "        rng_key, _rng_key = jr.split(rng_key)\n",
    "        federation[n]['client'].get_prior(timeout=10, verbose=False)\n",
    "        model_kwargs = federation[n]['model_kwargs']\n",
    "        federation[n]['client'].inference(\n",
    "            _rng_key, \n",
    "            model_kwargs, \n",
    "            num_steps=10_000,\n",
    "            opt_kwargs={'learning_rate': 1e-3}\n",
    "        )\n",
    "        gp = federation[n]['client'].send_posterior()\n",
    "        posteriors.append( gp )\n",
    "\n",
    "    for i, idx in enumerate([0, 9, 19]): \n",
    "        gm = GenerativeModel(posteriors[idx], hyperprior, local_model)\n",
    "        rng_key, _rng_key = jr.split(rng_key)\n",
    "        fed_smpl = Predictive(gm, num_samples=1000)(_rng_key, **federation[idx]['model_kwargs'])\n",
    "\n",
    "        axes[e, i].hist(fed_smpl['global.u_yield'], bins=100, alpha=0.8, label=r'$u_{Yield}$');\n",
    "        axes[e, i].hist(fed_smpl['global.u_som'], bins=100, alpha=0.8, label=r'$u_{SOM}$');\n",
    "        axes[e, i].hist(fed_smpl['global.u_som_t0'], bins=100, alpha=0.8, label=r'$u_{SOM_{t=0}}$');\n",
    "\n",
    "\n",
    "        axes[e, i].set_title(f\"Iter {idx + 1}\")\n",
    "\n",
    "    axes[0, 0].legend()\n",
    "    twin = axes[e, -1].twinx()\n",
    "    twin.set_ylabel(f'Epoch {e}', rotation=-90, labelpad=10)\n",
    "    twin.set_yticks([])"
   ]
  },
  {
   "cell_type": "code",
   "execution_count": null,
   "id": "3c2f7365",
   "metadata": {},
   "outputs": [],
   "source": []
  }
 ],
 "metadata": {
  "kernelspec": {
   "display_name": "fedbmr",
   "language": "python",
   "name": "python3"
  },
  "language_info": {
   "codemirror_mode": {
    "name": "ipython",
    "version": 3
   },
   "file_extension": ".py",
   "mimetype": "text/x-python",
   "name": "python",
   "nbconvert_exporter": "python",
   "pygments_lexer": "ipython3",
   "version": "3.10.11"
  },
  "vscode": {
   "interpreter": {
    "hash": "da5653e2d5f2980af23ef2f9edd5e78a3a23c89f4c948009ac1e73d240e04c57"
   }
  }
 },
 "nbformat": 4,
 "nbformat_minor": 5
}
