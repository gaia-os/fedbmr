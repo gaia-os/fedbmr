{
 "cells": [
  {
   "attachments": {},
   "cell_type": "markdown",
   "metadata": {},
   "source": [
    "Here we will investigate posterior estimates of a hierarchical linear regression model using various federated learning frameworks and comparing the quality of posterior estimates to centralised inference using sampling and stochastic variational inference methods."
   ]
  },
  {
   "attachments": {},
   "cell_type": "markdown",
   "metadata": {},
   "source": [
    "## Hierarchical linear regression\n",
    "We will start with the following linear regression example. Each node $n$ has collected a local dataset $\\mathcal{D}_n$ of size $K_n = |\\mathcal{D}_n|$. Each data set consists of input-output pairs $\\mathcal{D}_n  = \\left\\{ (\\pmb{x}^n_k, y^n_k)| \\forall k \\in \\{1, \\ldots, K_n\\} \\right\\}$ where $\\pmb{x}^n_k \\in \\mathbb{R}^{D}$, and $\\pmb{y}^n_k \\in ℝ$. We will assume the following generative model of the data\n",
    "\n",
    "\\begin{equation}\n",
    "    \\begin{split}\n",
    "        \\tau &\\sim p(\\tau|\\tau_0) \\\\ \n",
    "        \\lambda_i &\\sim \\mathcal{C}^+(0, \\tau), \\:\\: \\text{for } i \\in \\{1, \\ldots, D\\} \\\\\n",
    "        \\eta_{n,i} &\\sim \\mathcal{C}^+(0, \\lambda_i), \\:\\: \\text{for } n \\in \\{1, \\ldots, N\\} \\\\\n",
    "        c_n^{-2} &\\sim \\Gamma(2, 2) \\\\\n",
    "        \\tilde{\\eta}_{n, i}^2 &= \\frac{c_n^2}{c_n^2 + \\eta_{n, i}^2} \\\\\n",
    "        \\pmb{\\beta}_{n,i} &\\sim \\mathcal{N}\\left(0, \\sigma_n^2 \\tilde{\\eta}_{n,i}^2 \\right) \\\\\n",
    "        y_n &\\sim \\mathcal{N} \\left( \\pmb{\\beta}_n \\cdot \\pmb{x}^n, \\sigma_n^2 \\right)\n",
    "    \\end{split}\n",
    "\\end{equation}"
   ]
  },
  {
   "cell_type": "code",
   "execution_count": 11,
   "metadata": {},
   "outputs": [],
   "source": [
    "from jax import lax, vmap, random\n",
    "from numpyro import sample, plate, deterministic\n",
    "import jax.numpy as jnp\n",
    "import numpyro.distributions as dist\n",
    "import arviz as az\n",
    "\n",
    "from numpyro.infer import Predictive, MCMC, NUTS\n",
    "from numpyro.handlers import condition\n",
    "from fedbmr.feds import GenerativeModel"
   ]
  },
  {
   "cell_type": "code",
   "execution_count": 12,
   "metadata": {},
   "outputs": [],
   "source": [
    "def global_prior(D=100, τ_0=1e-2):\n",
    "    τ = sample('tau', dist.HalfCauchy(1.))\n",
    "    with plate('dim', D):\n",
    "        λ = sample('lambda', dist.HalfCauchy(1.))\n",
    "    \n",
    "    params = {\n",
    "        'global': τ * λ * τ_0\n",
    "    }\n",
    "\n",
    "    return params\n",
    "\n",
    "def local_prior(params, D=100, N=10):\n",
    "\n",
    "    with plate('nodes_l', N):\n",
    "        c = sample('c^{-2}', dist.Gamma(2, 2))\n",
    "        var = sample('var', dist.Gamma(2, 2))\n",
    "        eps = sample('eps', dist.Normal(0, 1.).expand([D]).to_event(1))\n",
    "        with plate('dim_l', D):\n",
    "            η = sample('eta', dist.HalfCauchy(1.))\n",
    "\n",
    "    \n",
    "    tilde_η = jnp.sqrt(η ** 2/(1 + c * η ** 2))\n",
    "    scale = jnp.sqrt(var)\n",
    "    beta = (scale * tilde_η).T * eps\n",
    "    if params is not None:\n",
    "        η = η.T * params['global']\n",
    "\n",
    "    params['local'] = {\n",
    "        'beta': deterministic('beta', beta), \n",
    "        'scale': jnp.sqrt(var)\n",
    "    }\n",
    "\n",
    "    return params\n",
    "\n",
    "vinner = vmap(jnp.inner)\n",
    "\n",
    "def likelihood(X, params, *, N=10, K=100):\n",
    "    \n",
    "    loc = vinner(params['local']['beta'], X)\n",
    "    scale = params['local']['scale']\n",
    "    with plate('nodes_m', N):\n",
    "        with plate('data', K):\n",
    "            sample('y', dist.Normal(loc, scale))\n",
    "\n",
    "rng_key = random.PRNGKey(101)\n",
    "rng_key, _rng_key = random.split(rng_key)\n",
    "N  = 10\n",
    "D  = 100\n",
    "\n",
    "X = random.normal(_rng_key, shape=(N, D))\n",
    "\n",
    "gp = lambda **kwargs: global_prior(D=D, **kwargs)\n",
    "lp = lambda *args, **kwargs: local_prior(*args, N=N, D=D, **kwargs)\n",
    "lkl = lambda *args, **kwargs: likelihood(X, *args, N=N, **kwargs)\n",
    "\n",
    "gm = GenerativeModel(gp, lp, lkl)\n",
    "\n",
    "rng_key, _rng_key = random.split(rng_key)\n",
    "data = Predictive(gm, num_samples=1)(_rng_key)"
   ]
  },
  {
   "cell_type": "code",
   "execution_count": 10,
   "metadata": {},
   "outputs": [
    {
     "name": "stderr",
     "output_type": "stream",
     "text": [
      "sample: 100%|██████████| 1500/1500 [06:44<00:00,  3.70it/s, 511 steps of size 6.58e-03. acc. prob=0.88]\n"
     ]
    }
   ],
   "source": [
    "lkl = condition(lkl, data={'y': data['y'][0]})\n",
    "\n",
    "gm = GenerativeModel(gp, lp, lkl)\n",
    "\n",
    "kernel = NUTS(gm)\n",
    "mcmc = MCMC(kernel, num_warmup=500, num_samples=1000)\n",
    "\n",
    "rng_key, _rng_key = random.split(rng_key)\n",
    "mcmc.run(_rng_key)"
   ]
  },
  {
   "cell_type": "code",
   "execution_count": 14,
   "metadata": {},
   "outputs": [
    {
     "data": {
      "text/plain": [
       "Computed from 1000 posterior samples and 1000 observations log-likelihood matrix.\n",
       "\n",
       "         Estimate       SE\n",
       "elpd_loo -1295.02    27.78\n",
       "p_loo       18.95        -\n",
       "------\n",
       "\n",
       "Pareto k diagnostic values:\n",
       "                         Count   Pct.\n",
       "(-Inf, 0.5]   (good)     1000  100.0%\n",
       " (0.5, 0.7]   (ok)          0    0.0%\n",
       "   (0.7, 1]   (bad)         0    0.0%\n",
       "   (1, Inf)   (very bad)    0    0.0%"
      ]
     },
     "execution_count": 14,
     "metadata": {},
     "output_type": "execute_result"
    }
   ],
   "source": [
    "idata = az.from_numpyro(mcmc)\n",
    "az.loo(idata)"
   ]
  },
  {
   "cell_type": "code",
   "execution_count": 22,
   "metadata": {},
   "outputs": [
    {
     "data": {
      "text/plain": [
       "Array([ 50.35714 ,  95.68653 , 107.017944,  55.81437 ,  44.518517,\n",
       "        23.754814,  69.104355,  17.021656,  69.88074 ,  28.030611],      dtype=float32)"
      ]
     },
     "execution_count": 22,
     "metadata": {},
     "output_type": "execute_result"
    },
    {
     "data": {
      "image/png": "[encoded data removed]",
      "text/plain": [
       "<Figure size 640x480 with 2 Axes>"
      ]
     },
     "metadata": {},
     "output_type": "display_data"
    }
   ],
   "source": [
    "import seaborn as sns\n",
    "sns.heatmap(data['beta'][0])\n",
    "jnp.abs(data['beta'][0]).sum(-1)"
   ]
  },
  {
   "cell_type": "code",
   "execution_count": null,
   "metadata": {},
   "outputs": [],
   "source": []
  }
 ],
 "metadata": {
  "kernelspec": {
   "display_name": "fedbmr",
   "language": "python",
   "name": "python3"
  },
  "language_info": {
   "codemirror_mode": {
    "name": "ipython",
    "version": 3
   },
   "file_extension": ".py",
   "mimetype": "text/x-python",
   "name": "python",
   "nbconvert_exporter": "python",
   "pygments_lexer": "ipython3",
   "version": "3.10.8"
  },
  "orig_nbformat": 4,
  "vscode": {
   "interpreter": {
    "hash": "da5653e2d5f2980af23ef2f9edd5e78a3a23c89f4c948009ac1e73d240e04c57"
   }
  }
 },
 "nbformat": 4,
 "nbformat_minor": 2
}
